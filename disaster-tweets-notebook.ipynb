{
 "cells": [
  {
   "cell_type": "code",
   "execution_count": 1,
   "metadata": {
    "_cell_guid": "b1076dfc-b9ad-4769-8c92-a6c4dae69d19",
    "_uuid": "8f2839f25d086af736a60e9eeb907d3b93b6e0e5",
    "execution": {
     "iopub.execute_input": "2020-10-18T15:10:16.546024Z",
     "iopub.status.busy": "2020-10-18T15:10:16.545223Z",
     "iopub.status.idle": "2020-10-18T15:10:23.979647Z",
     "shell.execute_reply": "2020-10-18T15:10:23.978751Z"
    },
    "papermill": {
     "duration": 7.484101,
     "end_time": "2020-10-18T15:10:23.979797",
     "exception": false,
     "start_time": "2020-10-18T15:10:16.495696",
     "status": "completed"
    },
    "tags": []
   },
   "outputs": [],
   "source": [
    "import pandas as pd\n",
    "\n",
    "import numpy as np\n",
    "\n",
    "import tensorflow as tf\n",
    "\n",
    "from tensorflow.keras import models\n",
    "from tensorflow.keras import layers\n",
    "from tensorflow.keras import optimizers\n",
    "from tensorflow.keras import losses\n",
    "from tensorflow.keras import callbacks\n",
    "from tensorflow.keras import metrics\n",
    "\n",
    "import re\n",
    "\n",
    "from sklearn.model_selection import train_test_split\n",
    "\n",
    "from sklearn.metrics import f1_score\n",
    "\n",
    "import tqdm\n",
    "\n",
    "import matplotlib.pyplot as plt\n",
    "\n",
    "import collections\n",
    "\n",
    "from sklearn.neighbors import KNeighborsClassifier"
   ]
  },
  {
   "cell_type": "markdown",
   "metadata": {
    "papermill": {
     "duration": 0.036938,
     "end_time": "2020-10-18T15:10:24.057157",
     "exception": false,
     "start_time": "2020-10-18T15:10:24.020219",
     "status": "completed"
    },
    "tags": []
   },
   "source": [
    "Read train and test."
   ]
  },
  {
   "cell_type": "code",
   "execution_count": 2,
   "metadata": {
    "_cell_guid": "79c7e3d0-c299-4dcb-8224-4455121ee9b0",
    "_uuid": "d629ff2d2480ee46fbb7e2d37f6b5fab8052498a",
    "execution": {
     "iopub.execute_input": "2020-10-18T15:10:24.140165Z",
     "iopub.status.busy": "2020-10-18T15:10:24.139308Z",
     "iopub.status.idle": "2020-10-18T15:10:24.199050Z",
     "shell.execute_reply": "2020-10-18T15:10:24.198245Z"
    },
    "papermill": {
     "duration": 0.104523,
     "end_time": "2020-10-18T15:10:24.199179",
     "exception": false,
     "start_time": "2020-10-18T15:10:24.094656",
     "status": "completed"
    },
    "tags": []
   },
   "outputs": [],
   "source": [
    "train = pd.read_csv(r\"data/train.csv\")\n",
    "test = pd.read_csv(r\"data/test.csv\")"
   ]
  },
  {
   "cell_type": "code",
   "execution_count": 3,
   "metadata": {
    "execution": {
     "iopub.execute_input": "2020-10-18T15:10:24.286282Z",
     "iopub.status.busy": "2020-10-18T15:10:24.285132Z",
     "iopub.status.idle": "2020-10-18T15:10:24.304656Z",
     "shell.execute_reply": "2020-10-18T15:10:24.305700Z"
    },
    "papermill": {
     "duration": 0.069376,
     "end_time": "2020-10-18T15:10:24.305919",
     "exception": false,
     "start_time": "2020-10-18T15:10:24.236543",
     "status": "completed"
    },
    "tags": []
   },
   "outputs": [
    {
     "name": "stdout",
     "output_type": "stream",
     "text": [
      "<class 'pandas.core.frame.DataFrame'>\n",
      "RangeIndex: 7613 entries, 0 to 7612\n",
      "Data columns (total 5 columns):\n",
      " #   Column    Non-Null Count  Dtype \n",
      "---  ------    --------------  ----- \n",
      " 0   id        7613 non-null   int64 \n",
      " 1   keyword   7552 non-null   object\n",
      " 2   location  5080 non-null   object\n",
      " 3   text      7613 non-null   object\n",
      " 4   target    7613 non-null   int64 \n",
      "dtypes: int64(2), object(3)\n",
      "memory usage: 297.5+ KB\n"
     ]
    }
   ],
   "source": [
    "train.info()"
   ]
  },
  {
   "cell_type": "code",
   "execution_count": 4,
   "metadata": {
    "execution": {
     "iopub.execute_input": "2020-10-18T15:10:24.393070Z",
     "iopub.status.busy": "2020-10-18T15:10:24.392042Z",
     "iopub.status.idle": "2020-10-18T15:10:24.394716Z",
     "shell.execute_reply": "2020-10-18T15:10:24.395271Z"
    },
    "papermill": {
     "duration": 0.050682,
     "end_time": "2020-10-18T15:10:24.395459",
     "exception": false,
     "start_time": "2020-10-18T15:10:24.344777",
     "status": "completed"
    },
    "tags": []
   },
   "outputs": [],
   "source": [
    "train.location.fillna(\"unknown\", inplace=True)\n",
    "train.keyword.fillna(\"unknown\", inplace=True)"
   ]
  },
  {
   "cell_type": "markdown",
   "metadata": {
    "papermill": {
     "duration": 0.037678,
     "end_time": "2020-10-18T15:10:24.471448",
     "exception": false,
     "start_time": "2020-10-18T15:10:24.433770",
     "status": "completed"
    },
    "tags": []
   },
   "source": [
    "There are some tweets that appear more than once. For simplicity I will keep only the first instance."
   ]
  },
  {
   "cell_type": "code",
   "execution_count": 5,
   "metadata": {
    "execution": {
     "iopub.execute_input": "2020-10-18T15:10:24.554886Z",
     "iopub.status.busy": "2020-10-18T15:10:24.554087Z",
     "iopub.status.idle": "2020-10-18T15:10:24.580329Z",
     "shell.execute_reply": "2020-10-18T15:10:24.581137Z"
    },
    "papermill": {
     "duration": 0.07184,
     "end_time": "2020-10-18T15:10:24.581583",
     "exception": false,
     "start_time": "2020-10-18T15:10:24.509743",
     "status": "completed"
    },
    "tags": []
   },
   "outputs": [
    {
     "name": "stdout",
     "output_type": "stream",
     "text": [
      "There are 7503 unique tweets and the size of the dataset is 7613.\n"
     ]
    }
   ],
   "source": [
    "print(f\"There are {len(train.text.unique())} unique tweets and the size of the dataset is {len(train)}.\")\n",
    "\n",
    "train = train.groupby(\"text\").head(1)"
   ]
  },
  {
   "cell_type": "code",
   "execution_count": 6,
   "metadata": {
    "execution": {
     "iopub.execute_input": "2020-10-18T15:10:24.666122Z",
     "iopub.status.busy": "2020-10-18T15:10:24.665322Z",
     "iopub.status.idle": "2020-10-18T15:10:24.668652Z",
     "shell.execute_reply": "2020-10-18T15:10:24.668000Z"
    },
    "papermill": {
     "duration": 0.047726,
     "end_time": "2020-10-18T15:10:24.668788",
     "exception": false,
     "start_time": "2020-10-18T15:10:24.621062",
     "status": "completed"
    },
    "tags": []
   },
   "outputs": [],
   "source": [
    "y = train.target.values\n",
    "text = train.text.values"
   ]
  },
  {
   "cell_type": "markdown",
   "metadata": {
    "papermill": {
     "duration": 0.039047,
     "end_time": "2020-10-18T15:10:46.301803",
     "exception": false,
     "start_time": "2020-10-18T15:10:46.262756",
     "status": "completed"
    },
    "tags": []
   },
   "source": [
    "Preprocess the tweets."
   ]
  },
  {
   "cell_type": "code",
   "execution_count": 8,
   "metadata": {
    "execution": {
     "iopub.execute_input": "2020-10-18T15:10:46.393770Z",
     "iopub.status.busy": "2020-10-18T15:10:46.392759Z",
     "iopub.status.idle": "2020-10-18T15:10:46.396145Z",
     "shell.execute_reply": "2020-10-18T15:10:46.395542Z"
    },
    "papermill": {
     "duration": 0.05326,
     "end_time": "2020-10-18T15:10:46.396277",
     "exception": false,
     "start_time": "2020-10-18T15:10:46.343017",
     "status": "completed"
    },
    "tags": []
   },
   "outputs": [],
   "source": [
    "# Preprocess.\n",
    "def preprocess(sentence):\n",
    "    s = sentence.lower().strip()\n",
    "    s = re.sub(r'https?://[^\\s<>\"]+|www\\.[^\\s<>\"]+', r\"url\", s)  # replace url's sith \"url\"\n",
    "    s = re.sub(r\"[\\w\\.-]+@[\\w\\.-]+\", r\"email\", s)  # replace email's by \"email\"\n",
    "    s = re.sub(r\"#[a-z]+\", \"hashtag\", s)\n",
    "    s = re.sub(r\"[!]+\", r\" ! \", s)\n",
    "    s = re.sub(r\"[?]+\", r\" ? \", s)\n",
    "    s = re.sub(r\"[,]+\", r\" , \", s)\n",
    "    s = re.sub(r\"[.]+\", r\" . \", s)\n",
    "    s = re.sub(r\"[`]+\", r\"\", s)\n",
    "    #s = re.sub(r\"([a-z])\\1+\", r\"\\1\", s)\n",
    "    s = re.sub(r\"[^a-z!?., ]\", \"\", s)\n",
    "    return s"
   ]
  },
  {
   "cell_type": "code",
   "execution_count": 9,
   "metadata": {
    "execution": {
     "iopub.execute_input": "2020-10-18T15:10:46.527543Z",
     "iopub.status.busy": "2020-10-18T15:10:46.506721Z",
     "iopub.status.idle": "2020-10-18T15:10:46.821161Z",
     "shell.execute_reply": "2020-10-18T15:10:46.820514Z"
    },
    "papermill": {
     "duration": 0.384195,
     "end_time": "2020-10-18T15:10:46.821301",
     "exception": false,
     "start_time": "2020-10-18T15:10:46.437106",
     "status": "completed"
    },
    "tags": []
   },
   "outputs": [],
   "source": [
    "text_preprocessed = [preprocess(txt) for txt in text]"
   ]
  },
  {
   "cell_type": "markdown",
   "metadata": {
    "papermill": {
     "duration": 0.039625,
     "end_time": "2020-10-18T15:10:46.900609",
     "exception": false,
     "start_time": "2020-10-18T15:10:46.860984",
     "status": "completed"
    },
    "tags": []
   },
   "source": [
    "Tokenize and pad tweets."
   ]
  },
  {
   "cell_type": "code",
   "execution_count": 10,
   "metadata": {
    "execution": {
     "iopub.execute_input": "2020-10-18T15:10:47.025596Z",
     "iopub.status.busy": "2020-10-18T15:10:47.009893Z",
     "iopub.status.idle": "2020-10-18T15:10:47.175119Z",
     "shell.execute_reply": "2020-10-18T15:10:47.175780Z"
    },
    "papermill": {
     "duration": 0.236065,
     "end_time": "2020-10-18T15:10:47.175948",
     "exception": false,
     "start_time": "2020-10-18T15:10:46.939883",
     "status": "completed"
    },
    "tags": []
   },
   "outputs": [],
   "source": [
    "vocab_size = 10000\n",
    "tokenizer = tf.keras.preprocessing.text.Tokenizer(vocab_size, filters=\"\", oov_token=\"<oov>\")\n",
    "tokenizer.fit_on_texts(text_preprocessed)"
   ]
  },
  {
   "cell_type": "code",
   "execution_count": 11,
   "metadata": {
    "execution": {
     "iopub.execute_input": "2020-10-18T15:10:47.305279Z",
     "iopub.status.busy": "2020-10-18T15:10:47.279451Z",
     "iopub.status.idle": "2020-10-18T15:10:47.468874Z",
     "shell.execute_reply": "2020-10-18T15:10:47.469470Z"
    },
    "papermill": {
     "duration": 0.253905,
     "end_time": "2020-10-18T15:10:47.469661",
     "exception": false,
     "start_time": "2020-10-18T15:10:47.215756",
     "status": "completed"
    },
    "tags": []
   },
   "outputs": [],
   "source": [
    "X = tokenizer.texts_to_sequences(text_preprocessed)\n",
    "X = tf.keras.preprocessing.sequence.pad_sequences(X, padding=\"post\")"
   ]
  },
  {
   "cell_type": "markdown",
   "metadata": {
    "papermill": {
     "duration": 0.039233,
     "end_time": "2020-10-18T15:10:47.548796",
     "exception": false,
     "start_time": "2020-10-18T15:10:47.509563",
     "status": "completed"
    },
    "tags": []
   },
   "source": [
    "### GloVe embeddings"
   ]
  },
  {
   "cell_type": "markdown",
   "metadata": {
    "papermill": {
     "duration": 0.039374,
     "end_time": "2020-10-18T15:10:24.747274",
     "exception": false,
     "start_time": "2020-10-18T15:10:24.707900",
     "status": "completed"
    },
    "tags": []
   },
   "source": [
    "Read GloVe word embeddings."
   ]
  },
  {
   "cell_type": "code",
   "execution_count": 7,
   "metadata": {
    "execution": {
     "iopub.execute_input": "2020-10-18T15:10:24.835479Z",
     "iopub.status.busy": "2020-10-18T15:10:24.834244Z",
     "iopub.status.idle": "2020-10-18T15:10:46.223150Z",
     "shell.execute_reply": "2020-10-18T15:10:46.222173Z"
    },
    "papermill": {
     "duration": 21.436006,
     "end_time": "2020-10-18T15:10:46.223294",
     "exception": false,
     "start_time": "2020-10-18T15:10:24.787288",
     "status": "completed"
    },
    "tags": []
   },
   "outputs": [],
   "source": [
    "glove = {}\n",
    "with open(r\"data/glove.twitter.27B.25d.txt\") as f:\n",
    "    for line in f.readlines():\n",
    "        line = line.strip().split()\n",
    "        word = line[0]\n",
    "        vector = np.array(line[1:], dtype=np.float64)\n",
    "        glove[word] = vector"
   ]
  },
  {
   "cell_type": "markdown",
   "metadata": {},
   "source": [
    "Check GloVe coverage."
   ]
  },
  {
   "cell_type": "code",
   "execution_count": 12,
   "metadata": {
    "execution": {
     "iopub.execute_input": "2020-10-18T15:10:47.866201Z",
     "iopub.status.busy": "2020-10-18T15:10:47.839899Z",
     "iopub.status.idle": "2020-10-18T15:10:47.870961Z",
     "shell.execute_reply": "2020-10-18T15:10:47.870152Z"
    },
    "papermill": {
     "duration": 0.28291,
     "end_time": "2020-10-18T15:10:47.871124",
     "exception": false,
     "start_time": "2020-10-18T15:10:47.588214",
     "status": "completed"
    },
    "tags": []
   },
   "outputs": [
    {
     "name": "stdout",
     "output_type": "stream",
     "text": [
      "76.15 % of vocab is in GloVe.\n",
      "Which represent 96.12 % of coverage.\n"
     ]
    }
   ],
   "source": [
    "vocab = set(tokenizer.word_index.keys())\n",
    "vocab_glove = set(glove.keys())\n",
    "\n",
    "perc_word_in_glove = len(vocab.intersection(vocab_glove)) / len(vocab) * 100\n",
    "print(r\"{:.2f} % of vocab is in GloVe.\". format(perc_word_in_glove))\n",
    "\n",
    "# Compute coverage.\n",
    "all_words = \" \".join(text_preprocessed)\n",
    "all_words = all_words.split()\n",
    "\n",
    "counter = collections.Counter(all_words)\n",
    "coverage = [counter[word] for word in vocab.intersection(vocab_glove)]\n",
    "coverage = sum(coverage) / len(all_words)\n",
    "print(r\"Which represent {:.2f} % of coverage.\". format(coverage * 100))"
   ]
  },
  {
   "cell_type": "markdown",
   "metadata": {
    "papermill": {
     "duration": 0.040531,
     "end_time": "2020-10-18T15:10:47.952542",
     "exception": false,
     "start_time": "2020-10-18T15:10:47.912011",
     "status": "completed"
    },
    "tags": []
   },
   "source": [
    "Build the embedding initializer based on the GloVe vectors."
   ]
  },
  {
   "cell_type": "code",
   "execution_count": 13,
   "metadata": {
    "execution": {
     "iopub.execute_input": "2020-10-18T15:10:48.048271Z",
     "iopub.status.busy": "2020-10-18T15:10:48.047485Z",
     "iopub.status.idle": "2020-10-18T15:10:48.137082Z",
     "shell.execute_reply": "2020-10-18T15:10:48.136280Z"
    },
    "papermill": {
     "duration": 0.143072,
     "end_time": "2020-10-18T15:10:48.137233",
     "exception": false,
     "start_time": "2020-10-18T15:10:47.994161",
     "status": "completed"
    },
    "tags": []
   },
   "outputs": [],
   "source": [
    "embedding_size = 25\n",
    "embedding_initializer = np.random.uniform(0, 1, (vocab_size, embedding_size))\n",
    "for idx, word in enumerate(list(tokenizer.word_index)[:vocab_size]):\n",
    "    clean_word = re.sub(r\"([a-z])\\1+\", r\"\\1\", word)\n",
    "    if word in glove:\n",
    "        embedding_initializer[idx-1] = glove[word]\n",
    "    elif clean_word in glove:\n",
    "        embedding_initializer[idx-1] = glove[clean_word]"
   ]
  },
  {
   "cell_type": "markdown",
   "metadata": {
    "papermill": {
     "duration": 0.040117,
     "end_time": "2020-10-18T15:10:48.219146",
     "exception": false,
     "start_time": "2020-10-18T15:10:48.179029",
     "status": "completed"
    },
    "tags": []
   },
   "source": [
    "Split data into train and validation."
   ]
  },
  {
   "cell_type": "code",
   "execution_count": 14,
   "metadata": {
    "execution": {
     "iopub.execute_input": "2020-10-18T15:10:48.314552Z",
     "iopub.status.busy": "2020-10-18T15:10:48.307067Z",
     "iopub.status.idle": "2020-10-18T15:10:48.333420Z",
     "shell.execute_reply": "2020-10-18T15:10:48.332551Z"
    },
    "papermill": {
     "duration": 0.073849,
     "end_time": "2020-10-18T15:10:48.333567",
     "exception": false,
     "start_time": "2020-10-18T15:10:48.259718",
     "status": "completed"
    },
    "tags": []
   },
   "outputs": [],
   "source": [
    "X_train, X_valid, y_train, y_valid = train_test_split(\n",
    "    X, y, \n",
    "    test_size=0.2, \n",
    "    random_state=42, \n",
    "    stratify=train.keyword\n",
    ")"
   ]
  },
  {
   "cell_type": "markdown",
   "metadata": {
    "papermill": {
     "duration": 0.04153,
     "end_time": "2020-10-18T15:10:48.416514",
     "exception": false,
     "start_time": "2020-10-18T15:10:48.374984",
     "status": "completed"
    },
    "tags": []
   },
   "source": [
    "Create a tensorflow dataset."
   ]
  },
  {
   "cell_type": "code",
   "execution_count": 15,
   "metadata": {
    "execution": {
     "iopub.execute_input": "2020-10-18T15:10:48.544239Z",
     "iopub.status.busy": "2020-10-18T15:10:48.508256Z",
     "iopub.status.idle": "2020-10-18T15:10:48.655070Z",
     "shell.execute_reply": "2020-10-18T15:10:48.654430Z"
    },
    "papermill": {
     "duration": 0.198021,
     "end_time": "2020-10-18T15:10:48.655222",
     "exception": false,
     "start_time": "2020-10-18T15:10:48.457201",
     "status": "completed"
    },
    "tags": []
   },
   "outputs": [],
   "source": [
    "batch_size = 64\n",
    "train_set = tf.data.Dataset.from_tensor_slices((X_train, y_train)).shuffle(len(X_train)).batch(batch_size).prefetch(1)\n",
    "valid_set = tf.data.Dataset.from_tensor_slices((X_valid, y_valid)).batch(batch_size).prefetch(1)"
   ]
  },
  {
   "cell_type": "markdown",
   "metadata": {},
   "source": [
    "### Pretrain embedding layer"
   ]
  },
  {
   "cell_type": "code",
   "execution_count": 16,
   "metadata": {
    "execution": {
     "iopub.execute_input": "2020-10-18T15:10:48.830812Z",
     "iopub.status.busy": "2020-10-18T15:10:48.829982Z",
     "iopub.status.idle": "2020-10-18T15:10:48.938907Z",
     "shell.execute_reply": "2020-10-18T15:10:48.938195Z"
    },
    "papermill": {
     "duration": 0.159354,
     "end_time": "2020-10-18T15:10:48.939030",
     "exception": false,
     "start_time": "2020-10-18T15:10:48.779676",
     "status": "completed"
    },
    "tags": []
   },
   "outputs": [],
   "source": [
    "embedding = models.Sequential([\n",
    "    layers.Embedding(input_dim=vocab_size, output_dim=embedding_size, input_shape=[None], \n",
    "                    embeddings_initializer=tf.keras.initializers.Constant(embedding_initializer), \n",
    "                    trainable=True),\n",
    "    layers.Dense(1, activation=\"sigmoid\")\n",
    "])\n",
    "\n",
    "embedding.compile(\n",
    "    optimizer=\"nadam\",\n",
    "    loss=\"binary_crossentropy\",\n",
    "    metrics=[\"accuracy\"]\n",
    ")\n",
    "\n",
    "embedding_early_stop_cb = callbacks.EarlyStopping(patience=5, restore_best_weights=True)"
   ]
  },
  {
   "cell_type": "code",
   "execution_count": 17,
   "metadata": {
    "execution": {
     "iopub.execute_input": "2020-10-18T15:10:49.030527Z",
     "iopub.status.busy": "2020-10-18T15:10:49.029731Z",
     "iopub.status.idle": "2020-10-18T15:10:59.748096Z",
     "shell.execute_reply": "2020-10-18T15:10:59.747450Z"
    },
    "papermill": {
     "duration": 10.767446,
     "end_time": "2020-10-18T15:10:59.748218",
     "exception": false,
     "start_time": "2020-10-18T15:10:48.980772",
     "status": "completed"
    },
    "tags": []
   },
   "outputs": [
    {
     "name": "stdout",
     "output_type": "stream",
     "text": [
      "Epoch 1/100\n",
      "94/94 [==============================] - 0s 5ms/step - loss: 0.7327 - accuracy: 0.5580 - val_loss: 0.7001 - val_accuracy: 0.5821\n",
      "Epoch 2/100\n",
      "94/94 [==============================] - 0s 3ms/step - loss: 0.6980 - accuracy: 0.5656 - val_loss: 0.6848 - val_accuracy: 0.5849\n",
      "Epoch 3/100\n",
      "94/94 [==============================] - 0s 3ms/step - loss: 0.6860 - accuracy: 0.5723 - val_loss: 0.6774 - val_accuracy: 0.5913\n",
      "Epoch 4/100\n",
      "94/94 [==============================] - 0s 3ms/step - loss: 0.6794 - accuracy: 0.5791 - val_loss: 0.6730 - val_accuracy: 0.5960\n",
      "Epoch 5/100\n",
      "94/94 [==============================] - 0s 3ms/step - loss: 0.6749 - accuracy: 0.5846 - val_loss: 0.6706 - val_accuracy: 0.5981\n",
      "Epoch 6/100\n",
      "94/94 [==============================] - 0s 4ms/step - loss: 0.6715 - accuracy: 0.5887 - val_loss: 0.6675 - val_accuracy: 0.6021\n",
      "Epoch 7/100\n",
      "94/94 [==============================] - 0s 4ms/step - loss: 0.6683 - accuracy: 0.5934 - val_loss: 0.6667 - val_accuracy: 0.6054\n",
      "Epoch 8/100\n",
      "94/94 [==============================] - 0s 4ms/step - loss: 0.6657 - accuracy: 0.5968 - val_loss: 0.6640 - val_accuracy: 0.6084\n",
      "Epoch 9/100\n",
      "94/94 [==============================] - 0s 4ms/step - loss: 0.6632 - accuracy: 0.6000 - val_loss: 0.6627 - val_accuracy: 0.6099\n",
      "Epoch 10/100\n",
      "94/94 [==============================] - 0s 3ms/step - loss: 0.6608 - accuracy: 0.6021 - val_loss: 0.6614 - val_accuracy: 0.6109\n",
      "Epoch 11/100\n",
      "94/94 [==============================] - 0s 3ms/step - loss: 0.6587 - accuracy: 0.6042 - val_loss: 0.6598 - val_accuracy: 0.6127\n",
      "Epoch 12/100\n",
      "94/94 [==============================] - 0s 4ms/step - loss: 0.6570 - accuracy: 0.6066 - val_loss: 0.6594 - val_accuracy: 0.6134\n",
      "Epoch 13/100\n",
      "94/94 [==============================] - 0s 3ms/step - loss: 0.6549 - accuracy: 0.6080 - val_loss: 0.6586 - val_accuracy: 0.6140\n",
      "Epoch 14/100\n",
      "94/94 [==============================] - 0s 4ms/step - loss: 0.6532 - accuracy: 0.6095 - val_loss: 0.6578 - val_accuracy: 0.6150\n",
      "Epoch 15/100\n",
      "94/94 [==============================] - 0s 4ms/step - loss: 0.6516 - accuracy: 0.6110 - val_loss: 0.6577 - val_accuracy: 0.6157\n",
      "Epoch 16/100\n",
      "94/94 [==============================] - 0s 3ms/step - loss: 0.6502 - accuracy: 0.6119 - val_loss: 0.6581 - val_accuracy: 0.6156\n",
      "Epoch 17/100\n",
      "94/94 [==============================] - 0s 3ms/step - loss: 0.6488 - accuracy: 0.6130 - val_loss: 0.6569 - val_accuracy: 0.6158\n",
      "Epoch 18/100\n",
      "94/94 [==============================] - 0s 3ms/step - loss: 0.6476 - accuracy: 0.6140 - val_loss: 0.6563 - val_accuracy: 0.6167\n",
      "Epoch 19/100\n",
      "94/94 [==============================] - 0s 3ms/step - loss: 0.6464 - accuracy: 0.6145 - val_loss: 0.6569 - val_accuracy: 0.6169\n",
      "Epoch 20/100\n",
      "94/94 [==============================] - 0s 3ms/step - loss: 0.6453 - accuracy: 0.6153 - val_loss: 0.6566 - val_accuracy: 0.6166\n",
      "Epoch 21/100\n",
      "94/94 [==============================] - 0s 3ms/step - loss: 0.6443 - accuracy: 0.6159 - val_loss: 0.6566 - val_accuracy: 0.6167\n",
      "Epoch 22/100\n",
      "94/94 [==============================] - 0s 3ms/step - loss: 0.6434 - accuracy: 0.6166 - val_loss: 0.6559 - val_accuracy: 0.6175\n",
      "Epoch 23/100\n",
      "94/94 [==============================] - 0s 3ms/step - loss: 0.6426 - accuracy: 0.6171 - val_loss: 0.6558 - val_accuracy: 0.6179\n",
      "Epoch 24/100\n",
      "94/94 [==============================] - 0s 3ms/step - loss: 0.6419 - accuracy: 0.6174 - val_loss: 0.6566 - val_accuracy: 0.6173\n",
      "Epoch 25/100\n",
      "94/94 [==============================] - 0s 3ms/step - loss: 0.6409 - accuracy: 0.6180 - val_loss: 0.6560 - val_accuracy: 0.6182\n",
      "Epoch 26/100\n",
      "94/94 [==============================] - 0s 4ms/step - loss: 0.6402 - accuracy: 0.6182 - val_loss: 0.6566 - val_accuracy: 0.6180\n",
      "Epoch 27/100\n",
      "94/94 [==============================] - 0s 3ms/step - loss: 0.6396 - accuracy: 0.6187 - val_loss: 0.6563 - val_accuracy: 0.6182\n",
      "Epoch 28/100\n",
      "94/94 [==============================] - 0s 3ms/step - loss: 0.6388 - accuracy: 0.6191 - val_loss: 0.6567 - val_accuracy: 0.6184\n"
     ]
    },
    {
     "data": {
      "text/plain": [
       "<tensorflow.python.keras.callbacks.History at 0x7f7b8d0e7410>"
      ]
     },
     "execution_count": 17,
     "metadata": {},
     "output_type": "execute_result"
    }
   ],
   "source": [
    "embedding.fit(\n",
    "    train_set, \n",
    "    epochs=100, \n",
    "    validation_data=valid_set,\n",
    "    callbacks=[embedding_early_stop_cb]\n",
    ")"
   ]
  },
  {
   "cell_type": "markdown",
   "metadata": {
    "papermill": {
     "duration": 0.126746,
     "end_time": "2020-10-18T15:10:59.999204",
     "exception": false,
     "start_time": "2020-10-18T15:10:59.872458",
     "status": "completed"
    },
    "tags": []
   },
   "source": [
    "Save the pretrained word embeddings."
   ]
  },
  {
   "cell_type": "code",
   "execution_count": 18,
   "metadata": {
    "execution": {
     "iopub.execute_input": "2020-10-18T15:11:00.255514Z",
     "iopub.status.busy": "2020-10-18T15:11:00.254623Z",
     "iopub.status.idle": "2020-10-18T15:11:00.258780Z",
     "shell.execute_reply": "2020-10-18T15:11:00.258072Z"
    },
    "papermill": {
     "duration": 0.130886,
     "end_time": "2020-10-18T15:11:00.258910",
     "exception": false,
     "start_time": "2020-10-18T15:11:00.128024",
     "status": "completed"
    },
    "tags": []
   },
   "outputs": [],
   "source": [
    "embedding_initializer = embedding.layers[0].get_weights()[0]"
   ]
  },
  {
   "cell_type": "markdown",
   "metadata": {
    "papermill": {
     "duration": 0.04076,
     "end_time": "2020-10-18T15:10:48.737538",
     "exception": false,
     "start_time": "2020-10-18T15:10:48.696778",
     "status": "completed"
    },
    "tags": []
   },
   "source": [
    "## Reference model (without autoencoder pretraining)"
   ]
  },
  {
   "cell_type": "code",
   "execution_count": 19,
   "metadata": {
    "execution": {
     "iopub.execute_input": "2020-10-18T15:11:00.520404Z",
     "iopub.status.busy": "2020-10-18T15:11:00.519243Z",
     "iopub.status.idle": "2020-10-18T15:11:01.414185Z",
     "shell.execute_reply": "2020-10-18T15:11:01.413308Z"
    },
    "papermill": {
     "duration": 1.032478,
     "end_time": "2020-10-18T15:11:01.414329",
     "exception": false,
     "start_time": "2020-10-18T15:11:00.381851",
     "status": "completed"
    },
    "tags": []
   },
   "outputs": [],
   "source": [
    "model = models.Sequential([\n",
    "    layers.Embedding(input_dim=vocab_size, output_dim=embedding_size, input_shape=[None], \n",
    "                     embeddings_initializer=tf.keras.initializers.Constant(embedding_initializer), \n",
    "                     trainable=True),\n",
    "    layers.Bidirectional(layers.GRU(20, dropout=0.5, recurrent_dropout=0.5, return_sequences=True)),\n",
    "    layers.Bidirectional(layers.GRU(10, dropout=0.5, recurrent_dropout=0.5)),\n",
    "    layers.BatchNormalization(),\n",
    "    layers.Dense(1, activation=\"sigmoid\")\n",
    "])\n",
    "\n",
    "model.compile(\n",
    "    optimizer=optimizers.Nadam(lr=1e-3),\n",
    "    loss=\"binary_crossentropy\",\n",
    "    metrics=[\"accuracy\"]\n",
    ")"
   ]
  },
  {
   "cell_type": "markdown",
   "metadata": {
    "papermill": {
     "duration": 0.121371,
     "end_time": "2020-10-18T15:11:01.660001",
     "exception": false,
     "start_time": "2020-10-18T15:11:01.538630",
     "status": "completed"
    },
    "tags": []
   },
   "source": [
    "The competition is evaluated by the F1 Score. Since tensorflow don't have a built in F1 score metric, we need to build our own."
   ]
  },
  {
   "cell_type": "code",
   "execution_count": 20,
   "metadata": {
    "execution": {
     "iopub.execute_input": "2020-10-18T15:11:01.916392Z",
     "iopub.status.busy": "2020-10-18T15:11:01.915212Z",
     "iopub.status.idle": "2020-10-18T15:11:01.919521Z",
     "shell.execute_reply": "2020-10-18T15:11:01.918720Z"
    },
    "papermill": {
     "duration": 0.138154,
     "end_time": "2020-10-18T15:11:01.919656",
     "exception": false,
     "start_time": "2020-10-18T15:11:01.781502",
     "status": "completed"
    },
    "tags": []
   },
   "outputs": [],
   "source": [
    "# Build a custom callback that returns the f1 score at the end of each epoch.\n",
    "class F1ScoreCallback(callbacks.Callback):\n",
    "    def __init__(self, X_train, y_train, X_valid, y_valid, **kargs):\n",
    "        super().__init__(**kargs)\n",
    "        self.X_train = X_train\n",
    "        self.y_train = y_train\n",
    "        self.X_valid = X_valid\n",
    "        self.y_valid = y_valid\n",
    "        \n",
    "    def on_epoch_end(self, epoch, logs=None):\n",
    "        y_train_pred = self.model.predict(self.X_train)\n",
    "        y_train_pred = np.round(y_train_pred).reshape(self.y_train.shape)\n",
    "        \n",
    "        y_valid_pred = self.model.predict(self.X_valid)\n",
    "        y_valid_pred = np.round(y_valid_pred).reshape(self.y_valid.shape)\n",
    "        \n",
    "        f1_score_train = f1_score(y_train, y_train_pred)\n",
    "        f1_score_valid = f1_score(y_valid, y_valid_pred)\n",
    "        \n",
    "        print(\" - f1_score: {:.4f} - f1_score_valid: {:.4f}\".format(f1_score_train, f1_score_valid))"
   ]
  },
  {
   "cell_type": "code",
   "execution_count": 21,
   "metadata": {
    "execution": {
     "iopub.execute_input": "2020-10-18T15:11:02.175478Z",
     "iopub.status.busy": "2020-10-18T15:11:02.174294Z",
     "iopub.status.idle": "2020-10-18T15:11:02.178030Z",
     "shell.execute_reply": "2020-10-18T15:11:02.177428Z"
    },
    "papermill": {
     "duration": 0.1313,
     "end_time": "2020-10-18T15:11:02.178166",
     "exception": false,
     "start_time": "2020-10-18T15:11:02.046866",
     "status": "completed"
    },
    "tags": []
   },
   "outputs": [],
   "source": [
    "f1_score_cb = F1ScoreCallback(X_train, y_train, X_valid, y_valid)\n"
   ]
  },
  {
   "cell_type": "code",
   "execution_count": 22,
   "metadata": {
    "execution": {
     "iopub.execute_input": "2020-10-18T15:11:02.441848Z",
     "iopub.status.busy": "2020-10-18T15:11:02.440786Z",
     "iopub.status.idle": "2020-10-18T15:11:59.082776Z",
     "shell.execute_reply": "2020-10-18T15:11:59.082023Z"
    },
    "papermill": {
     "duration": 56.782567,
     "end_time": "2020-10-18T15:11:59.082917",
     "exception": false,
     "start_time": "2020-10-18T15:11:02.300350",
     "status": "completed"
    },
    "tags": []
   },
   "outputs": [
    {
     "name": "stdout",
     "output_type": "stream",
     "text": [
      "Epoch 1/100\n",
      "94/94 [==============================] - 10s 106ms/step - loss: 0.7054 - accuracy: 0.6206 - val_loss: 0.5584 - val_accuracy: 0.7515\n",
      "Epoch 2/100\n",
      "94/94 [==============================] - 9s 91ms/step - loss: 0.4883 - accuracy: 0.7727 - val_loss: 0.4724 - val_accuracy: 0.7748\n",
      "Epoch 3/100\n",
      "94/94 [==============================] - 9s 91ms/step - loss: 0.4285 - accuracy: 0.8094 - val_loss: 0.4937 - val_accuracy: 0.7821\n",
      "Epoch 4/100\n",
      "94/94 [==============================] - 8s 88ms/step - loss: 0.3972 - accuracy: 0.8257 - val_loss: 0.4965 - val_accuracy: 0.7968\n",
      "Epoch 5/100\n",
      "94/94 [==============================] - 9s 94ms/step - loss: 0.3726 - accuracy: 0.8409 - val_loss: 0.5533 - val_accuracy: 0.7828\n"
     ]
    },
    {
     "data": {
      "text/plain": [
       "<tensorflow.python.keras.callbacks.History at 0x7f7b804617d0>"
      ]
     },
     "execution_count": 22,
     "metadata": {},
     "output_type": "execute_result"
    }
   ],
   "source": [
    "#model.fit(train_set, epochs=10, validation_data=valid_set, callbacks=[f1_score_cb]) # the f1_score_cb slows down training.\n",
    "\n",
    "model.fit(\n",
    "    train_set, \n",
    "    epochs=100, \n",
    "    validation_data=valid_set,\n",
    "    callbacks=[callbacks.EarlyStopping(patience=3, restore_best_weights=True)]\n",
    ")"
   ]
  },
  {
   "cell_type": "markdown",
   "metadata": {
    "papermill": {
     "duration": 0.312595,
     "end_time": "2020-10-18T15:11:59.723588",
     "exception": false,
     "start_time": "2020-10-18T15:11:59.410993",
     "status": "completed"
    },
    "tags": []
   },
   "source": [
    "## Unsupervised pretraining with Autoencoder"
   ]
  },
  {
   "cell_type": "code",
   "execution_count": 23,
   "metadata": {
    "execution": {
     "iopub.execute_input": "2020-10-18T15:12:01.032912Z",
     "iopub.status.busy": "2020-10-18T15:12:01.032046Z",
     "iopub.status.idle": "2020-10-18T15:12:01.036271Z",
     "shell.execute_reply": "2020-10-18T15:12:01.035511Z"
    },
    "papermill": {
     "duration": 0.334873,
     "end_time": "2020-10-18T15:12:01.036448",
     "exception": false,
     "start_time": "2020-10-18T15:12:00.701575",
     "status": "completed"
    },
    "tags": []
   },
   "outputs": [],
   "source": [
    "embedding_layer = layers.Embedding(input_dim=vocab_size, output_dim=embedding_size, input_shape=[None],\n",
    "                    embeddings_initializer=tf.keras.initializers.Constant(embedding_initializer), trainable=False)"
   ]
  },
  {
   "cell_type": "code",
   "execution_count": 24,
   "metadata": {
    "execution": {
     "iopub.execute_input": "2020-10-18T15:12:01.676848Z",
     "iopub.status.busy": "2020-10-18T15:12:01.675606Z",
     "iopub.status.idle": "2020-10-18T15:12:01.693854Z",
     "shell.execute_reply": "2020-10-18T15:12:01.694513Z"
    },
    "papermill": {
     "duration": 0.337733,
     "end_time": "2020-10-18T15:12:01.694676",
     "exception": false,
     "start_time": "2020-10-18T15:12:01.356943",
     "status": "completed"
    },
    "tags": []
   },
   "outputs": [],
   "source": [
    "X_train_embed = embedding_layer(X_train)\n",
    "X_valid_embed = embedding_layer(X_valid)"
   ]
  },
  {
   "cell_type": "code",
   "execution_count": 25,
   "metadata": {
    "execution": {
     "iopub.execute_input": "2020-10-18T15:12:02.344604Z",
     "iopub.status.busy": "2020-10-18T15:12:02.343434Z",
     "iopub.status.idle": "2020-10-18T15:12:04.727667Z",
     "shell.execute_reply": "2020-10-18T15:12:04.726834Z"
    },
    "papermill": {
     "duration": 2.714782,
     "end_time": "2020-10-18T15:12:04.727811",
     "exception": false,
     "start_time": "2020-10-18T15:12:02.013029",
     "status": "completed"
    },
    "tags": []
   },
   "outputs": [],
   "source": [
    "encoder = models.Sequential([\n",
    "    layers.Bidirectional(layers.GRU(20, dropout=0.5, recurrent_dropout=0.5,return_sequences=True), input_shape=[None, 25]),\n",
    "    layers.Bidirectional(layers.GRU(10, dropout=0.5, recurrent_dropout=0.5))\n",
    "])\n",
    "\n",
    "decoder = models.Sequential([\n",
    "    layers.RepeatVector(37, input_shape=[20]),\n",
    "    layers.Bidirectional(layers.GRU(20, dropout=0.5, recurrent_dropout=0.5,return_sequences=True)),\n",
    "    layers.TimeDistributed(layers.Dense(25))\n",
    "])\n",
    "\n",
    "autoencoder = models.Sequential([encoder, decoder])"
   ]
  },
  {
   "cell_type": "code",
   "execution_count": 26,
   "metadata": {
    "execution": {
     "iopub.execute_input": "2020-10-18T15:12:05.426735Z",
     "iopub.status.busy": "2020-10-18T15:12:05.425676Z",
     "iopub.status.idle": "2020-10-18T15:12:05.431621Z",
     "shell.execute_reply": "2020-10-18T15:12:05.430269Z"
    },
    "papermill": {
     "duration": 0.339858,
     "end_time": "2020-10-18T15:12:05.431850",
     "exception": false,
     "start_time": "2020-10-18T15:12:05.091992",
     "status": "completed"
    },
    "tags": []
   },
   "outputs": [
    {
     "name": "stdout",
     "output_type": "stream",
     "text": [
      "Model: \"sequential_4\"\n",
      "_________________________________________________________________\n",
      "Layer (type)                 Output Shape              Param #   \n",
      "=================================================================\n",
      "sequential_2 (Sequential)    (None, 20)                8760      \n",
      "_________________________________________________________________\n",
      "sequential_3 (Sequential)    (None, 37, 25)            6065      \n",
      "=================================================================\n",
      "Total params: 14,825\n",
      "Trainable params: 14,825\n",
      "Non-trainable params: 0\n",
      "_________________________________________________________________\n"
     ]
    }
   ],
   "source": [
    "autoencoder.summary()"
   ]
  },
  {
   "cell_type": "code",
   "execution_count": 27,
   "metadata": {
    "execution": {
     "iopub.execute_input": "2020-10-18T15:12:06.111449Z",
     "iopub.status.busy": "2020-10-18T15:12:06.110612Z",
     "iopub.status.idle": "2020-10-18T15:12:06.117499Z",
     "shell.execute_reply": "2020-10-18T15:12:06.116688Z"
    },
    "papermill": {
     "duration": 0.344212,
     "end_time": "2020-10-18T15:12:06.117637",
     "exception": false,
     "start_time": "2020-10-18T15:12:05.773425",
     "status": "completed"
    },
    "tags": []
   },
   "outputs": [],
   "source": [
    "autoencoder.compile(\n",
    "    optimizer=optimizers.Nadam(1e-3),\n",
    "    loss=\"mse\"\n",
    ")"
   ]
  },
  {
   "cell_type": "code",
   "execution_count": 28,
   "metadata": {
    "execution": {
     "iopub.execute_input": "2020-10-18T15:12:06.753394Z",
     "iopub.status.busy": "2020-10-18T15:12:06.752603Z",
     "iopub.status.idle": "2020-10-18T15:21:18.219807Z",
     "shell.execute_reply": "2020-10-18T15:21:18.220385Z"
    },
    "papermill": {
     "duration": 551.789914,
     "end_time": "2020-10-18T15:21:18.220557",
     "exception": false,
     "start_time": "2020-10-18T15:12:06.430643",
     "status": "completed"
    },
    "tags": []
   },
   "outputs": [
    {
     "name": "stdout",
     "output_type": "stream",
     "text": [
      "Epoch 1/100\n",
      "188/188 [==============================] - 24s 130ms/step - loss: 0.3785 - val_loss: 0.2796\n",
      "Epoch 2/100\n",
      "188/188 [==============================] - 22s 117ms/step - loss: 0.2711 - val_loss: 0.2490\n",
      "Epoch 3/100\n",
      "188/188 [==============================] - 22s 116ms/step - loss: 0.2527 - val_loss: 0.2387\n",
      "Epoch 4/100\n",
      "188/188 [==============================] - 22s 119ms/step - loss: 0.2455 - val_loss: 0.2307\n",
      "Epoch 5/100\n",
      "188/188 [==============================] - 22s 118ms/step - loss: 0.2399 - val_loss: 0.2271\n",
      "Epoch 6/100\n",
      "188/188 [==============================] - 21s 112ms/step - loss: 0.2367 - val_loss: 0.2229\n",
      "Epoch 7/100\n",
      "188/188 [==============================] - 22s 118ms/step - loss: 0.2340 - val_loss: 0.2210\n",
      "Epoch 8/100\n",
      "188/188 [==============================] - 22s 116ms/step - loss: 0.2326 - val_loss: 0.2197\n",
      "Epoch 9/100\n",
      "188/188 [==============================] - 21s 113ms/step - loss: 0.2311 - val_loss: 0.2191\n",
      "Epoch 10/100\n",
      "188/188 [==============================] - 23s 121ms/step - loss: 0.2293 - val_loss: 0.2211\n",
      "Epoch 11/100\n",
      "188/188 [==============================] - 22s 117ms/step - loss: 0.2279 - val_loss: 0.2182\n",
      "Epoch 12/100\n",
      "188/188 [==============================] - 22s 116ms/step - loss: 0.2264 - val_loss: 0.2148\n",
      "Epoch 13/100\n",
      "188/188 [==============================] - 22s 117ms/step - loss: 0.2256 - val_loss: 0.2157\n",
      "Epoch 14/100\n",
      "188/188 [==============================] - 22s 116ms/step - loss: 0.2248 - val_loss: 0.2159\n",
      "Epoch 15/100\n",
      "188/188 [==============================] - 23s 122ms/step - loss: 0.2237 - val_loss: 0.2120\n",
      "Epoch 16/100\n",
      "188/188 [==============================] - 22s 115ms/step - loss: 0.2227 - val_loss: 0.2126\n",
      "Epoch 17/100\n",
      "188/188 [==============================] - 25s 134ms/step - loss: 0.2219 - val_loss: 0.2112\n",
      "Epoch 18/100\n",
      "188/188 [==============================] - 22s 119ms/step - loss: 0.2215 - val_loss: 0.2116\n",
      "Epoch 19/100\n",
      "188/188 [==============================] - 21s 111ms/step - loss: 0.2206 - val_loss: 0.2107\n",
      "Epoch 20/100\n",
      "188/188 [==============================] - 22s 115ms/step - loss: 0.2201 - val_loss: 0.2096\n",
      "Epoch 21/100\n",
      "188/188 [==============================] - 23s 120ms/step - loss: 0.2193 - val_loss: 0.2093\n",
      "Epoch 22/100\n",
      "188/188 [==============================] - 21s 111ms/step - loss: 0.2188 - val_loss: 0.2110\n",
      "Epoch 23/100\n",
      "188/188 [==============================] - 23s 120ms/step - loss: 0.2184 - val_loss: 0.2100\n",
      "Epoch 24/100\n",
      "188/188 [==============================] - 23s 120ms/step - loss: 0.2176 - val_loss: 0.2101\n"
     ]
    },
    {
     "data": {
      "text/plain": [
       "<tensorflow.python.keras.callbacks.History at 0x7f7b7202b990>"
      ]
     },
     "execution_count": 28,
     "metadata": {},
     "output_type": "execute_result"
    }
   ],
   "source": [
    "autoencoder.fit(\n",
    "    X_train_embed, X_train_embed, \n",
    "    epochs=100,\n",
    "    validation_data=(X_valid_embed, X_valid_embed),\n",
    "    callbacks=[callbacks.EarlyStopping(patience=3, restore_best_weights=True)]\n",
    ")"
   ]
  },
  {
   "cell_type": "markdown",
   "metadata": {
    "papermill": {
     "duration": 2.137903,
     "end_time": "2020-10-18T15:21:22.462232",
     "exception": false,
     "start_time": "2020-10-18T15:21:20.324329",
     "status": "completed"
    },
    "tags": []
   },
   "source": [
    "Let's have a look at the reconstructed tweets."
   ]
  },
  {
   "cell_type": "code",
   "execution_count": 29,
   "metadata": {
    "execution": {
     "iopub.execute_input": "2020-10-18T15:21:26.715858Z",
     "iopub.status.busy": "2020-10-18T15:21:26.715008Z",
     "iopub.status.idle": "2020-10-18T15:21:26.768427Z",
     "shell.execute_reply": "2020-10-18T15:21:26.767653Z"
    },
    "papermill": {
     "duration": 2.159278,
     "end_time": "2020-10-18T15:21:26.768554",
     "exception": false,
     "start_time": "2020-10-18T15:21:24.609276",
     "status": "completed"
    },
    "tags": []
   },
   "outputs": [
    {
     "data": {
      "text/plain": [
       "KNeighborsClassifier(n_neighbors=1)"
      ]
     },
     "execution_count": 29,
     "metadata": {},
     "output_type": "execute_result"
    }
   ],
   "source": [
    "knn = KNeighborsClassifier(n_neighbors=1)\n",
    "\n",
    "X_knn = embedding_initializer\n",
    "y_knn = list(tokenizer.word_index.keys())[:vocab_size]\n",
    "\n",
    "knn.fit(X_knn, y_knn)"
   ]
  },
  {
   "cell_type": "code",
   "execution_count": 30,
   "metadata": {
    "execution": {
     "iopub.execute_input": "2020-10-18T15:21:30.979057Z",
     "iopub.status.busy": "2020-10-18T15:21:30.978272Z",
     "iopub.status.idle": "2020-10-18T15:21:34.811322Z",
     "shell.execute_reply": "2020-10-18T15:21:34.810484Z"
    },
    "papermill": {
     "duration": 5.942788,
     "end_time": "2020-10-18T15:21:34.811524",
     "exception": false,
     "start_time": "2020-10-18T15:21:28.868736",
     "status": "completed"
    },
    "tags": []
   },
   "outputs": [
    {
     "name": "stdout",
     "output_type": "stream",
     "text": [
      "Our Deeds are the Reason of this #earthquake May ALLAH Forgive us all\n",
      "someone someone someone someone someone former am am am am am am am\n",
      "--------------------------------------------------------------------------------\n",
      "Forest fire near La Ronge Sask. Canada\n",
      "lmfao lmfao lmfao lmfao lmfao lmfao lmfao lmfao\n",
      "--------------------------------------------------------------------------------\n"
     ]
    }
   ],
   "source": [
    "tweets = [\n",
    "    'Our Deeds are the Reason of this #earthquake May ALLAH Forgive us all',\n",
    "    'Forest fire near La Ronge Sask. Canada'\n",
    "]\n",
    "\n",
    "for tweet in tweets:\n",
    "    preprocessed_tweet = preprocess(tweet)\n",
    "    sequence = tokenizer.texts_to_sequences([preprocessed_tweet])\n",
    "    sequnce_embed = embedding_layer(np.array(sequence))\n",
    "    \n",
    "    recons_tweet = autoencoder.predict(sequnce_embed)\n",
    "    recons_tweet = [knn.predict([vector])[0] for vector in recons_tweet[0]]\n",
    "    recons_tweet = \" \".join(recons_tweet[:len(sequence[0])])\n",
    "    \n",
    "    print(tweet)\n",
    "    print(recons_tweet)\n",
    "    print(\"-\" * 80)"
   ]
  },
  {
   "cell_type": "markdown",
   "metadata": {},
   "source": [
    "The autoencoder is not really able to reconstruct the tweets (it would need more capacity for that). It seems that it has found some words that reduce the loss. Nevertheless, let's see if it found a representation that can improve the validation accuracy."
   ]
  },
  {
   "cell_type": "markdown",
   "metadata": {
    "papermill": {
     "duration": 2.158374,
     "end_time": "2020-10-18T15:21:39.120503",
     "exception": false,
     "start_time": "2020-10-18T15:21:36.962129",
     "status": "completed"
    },
    "tags": []
   },
   "source": [
    "### Build a model based on the encoder"
   ]
  },
  {
   "cell_type": "markdown",
   "metadata": {
    "papermill": {
     "duration": 2.175603,
     "end_time": "2020-10-18T15:21:43.403543",
     "exception": false,
     "start_time": "2020-10-18T15:21:41.227940",
     "status": "completed"
    },
    "tags": []
   },
   "source": [
    "Train the model with the encoder weights locked."
   ]
  },
  {
   "cell_type": "code",
   "execution_count": 31,
   "metadata": {
    "execution": {
     "iopub.execute_input": "2020-10-18T15:21:47.708640Z",
     "iopub.status.busy": "2020-10-18T15:21:47.689960Z",
     "iopub.status.idle": "2020-10-18T15:21:49.323094Z",
     "shell.execute_reply": "2020-10-18T15:21:49.322431Z"
    },
    "papermill": {
     "duration": 3.806291,
     "end_time": "2020-10-18T15:21:49.323226",
     "exception": false,
     "start_time": "2020-10-18T15:21:45.516935",
     "status": "completed"
    },
    "tags": []
   },
   "outputs": [],
   "source": [
    "encoder_clone = models.clone_model(encoder)\n",
    "\n",
    "encoder_clone.trainable = False\n",
    "pretrained_model = models.Sequential([\n",
    "    layers.Embedding(input_dim=vocab_size, output_dim=embedding_size, input_shape=[None], \n",
    "                     embeddings_initializer=tf.keras.initializers.Constant(embedding_initializer), \n",
    "                     trainable=True),\n",
    "    encoder_clone,\n",
    "    layers.BatchNormalization(),\n",
    "    layers.Dense(1, activation=\"sigmoid\")\n",
    "])\n",
    "\n",
    "pretrained_model.compile(\n",
    "    loss=\"binary_crossentropy\",\n",
    "    optimizer=optimizers.Nadam(1e-3),\n",
    "    metrics=[\"accuracy\"]\n",
    ")"
   ]
  },
  {
   "cell_type": "code",
   "execution_count": 32,
   "metadata": {
    "execution": {
     "iopub.execute_input": "2020-10-18T15:21:53.627836Z",
     "iopub.status.busy": "2020-10-18T15:21:53.626991Z",
     "iopub.status.idle": "2020-10-18T15:23:19.687490Z",
     "shell.execute_reply": "2020-10-18T15:23:19.686721Z"
    },
    "papermill": {
     "duration": 88.254839,
     "end_time": "2020-10-18T15:23:19.687616",
     "exception": false,
     "start_time": "2020-10-18T15:21:51.432777",
     "status": "completed"
    },
    "tags": []
   },
   "outputs": [
    {
     "name": "stdout",
     "output_type": "stream",
     "text": [
      "Epoch 1/10\n",
      "94/94 [==============================] - 8s 86ms/step - loss: 0.8185 - accuracy: 0.5127 - val_loss: 0.6724 - val_accuracy: 0.5923\n",
      "Epoch 2/10\n",
      "94/94 [==============================] - 7s 76ms/step - loss: 0.7544 - accuracy: 0.5347 - val_loss: 0.6659 - val_accuracy: 0.5969\n",
      "Epoch 3/10\n",
      "94/94 [==============================] - 8s 84ms/step - loss: 0.7098 - accuracy: 0.5561 - val_loss: 0.6600 - val_accuracy: 0.6049\n",
      "Epoch 4/10\n",
      "94/94 [==============================] - 7s 72ms/step - loss: 0.6891 - accuracy: 0.5735 - val_loss: 0.6537 - val_accuracy: 0.6109\n",
      "Epoch 5/10\n",
      "94/94 [==============================] - 7s 74ms/step - loss: 0.6728 - accuracy: 0.5866 - val_loss: 0.6460 - val_accuracy: 0.6209\n",
      "Epoch 6/10\n",
      "94/94 [==============================] - 7s 76ms/step - loss: 0.6665 - accuracy: 0.5961 - val_loss: 0.6408 - val_accuracy: 0.6282\n",
      "Epoch 7/10\n",
      "94/94 [==============================] - 8s 81ms/step - loss: 0.6640 - accuracy: 0.6060 - val_loss: 0.6382 - val_accuracy: 0.6289\n",
      "Epoch 8/10\n",
      "94/94 [==============================] - 9s 94ms/step - loss: 0.6520 - accuracy: 0.6191 - val_loss: 0.6330 - val_accuracy: 0.6342\n",
      "Epoch 9/10\n",
      "94/94 [==============================] - 7s 77ms/step - loss: 0.6512 - accuracy: 0.6208 - val_loss: 0.6280 - val_accuracy: 0.6449\n",
      "Epoch 10/10\n",
      "94/94 [==============================] - 7s 76ms/step - loss: 0.6464 - accuracy: 0.6296 - val_loss: 0.6243 - val_accuracy: 0.6496\n"
     ]
    },
    {
     "data": {
      "text/plain": [
       "<tensorflow.python.keras.callbacks.History at 0x7f7b6014a9d0>"
      ]
     },
     "execution_count": 32,
     "metadata": {},
     "output_type": "execute_result"
    }
   ],
   "source": [
    "#pretrained_model.fit(train_set, epochs=10, validation_data=valid_set, callbacks=[f1_score_cb])\n",
    "pretrained_model.fit(\n",
    "    train_set, \n",
    "    epochs=10, \n",
    "    validation_data=valid_set,\n",
    "    callbacks=[callbacks.EarlyStopping(patience=3, restore_best_weights=True)]\n",
    ")"
   ]
  },
  {
   "cell_type": "markdown",
   "metadata": {
    "papermill": {
     "duration": 2.487236,
     "end_time": "2020-10-18T15:23:24.675998",
     "exception": false,
     "start_time": "2020-10-18T15:23:22.188762",
     "status": "completed"
    },
    "tags": []
   },
   "source": [
    "Train the model with the encoder weights unlocked."
   ]
  },
  {
   "cell_type": "code",
   "execution_count": 33,
   "metadata": {
    "execution": {
     "iopub.execute_input": "2020-10-18T15:23:29.699802Z",
     "iopub.status.busy": "2020-10-18T15:23:29.698780Z",
     "iopub.status.idle": "2020-10-18T15:24:37.045543Z",
     "shell.execute_reply": "2020-10-18T15:24:37.021671Z"
    },
    "papermill": {
     "duration": 69.892236,
     "end_time": "2020-10-18T15:24:37.045724",
     "exception": false,
     "start_time": "2020-10-18T15:23:27.153488",
     "status": "completed"
    },
    "tags": []
   },
   "outputs": [
    {
     "name": "stdout",
     "output_type": "stream",
     "text": [
      "Epoch 1/10\n",
      "94/94 [==============================] - 11s 113ms/step - loss: 0.5542 - accuracy: 0.7236 - val_loss: 0.4975 - val_accuracy: 0.7735\n",
      "Epoch 2/10\n",
      "94/94 [==============================] - 9s 100ms/step - loss: 0.4330 - accuracy: 0.8094 - val_loss: 0.7066 - val_accuracy: 0.7495\n",
      "Epoch 3/10\n",
      "94/94 [==============================] - 9s 91ms/step - loss: 0.3888 - accuracy: 0.8301 - val_loss: 0.5351 - val_accuracy: 0.7861\n",
      "Epoch 4/10\n",
      "94/94 [==============================] - 8s 86ms/step - loss: 0.3662 - accuracy: 0.8394 - val_loss: 0.5378 - val_accuracy: 0.7888\n",
      "Epoch 5/10\n",
      "94/94 [==============================] - 8s 88ms/step - loss: 0.3499 - accuracy: 0.8535 - val_loss: 0.5250 - val_accuracy: 0.7881\n",
      "Epoch 6/10\n",
      "94/94 [==============================] - 9s 93ms/step - loss: 0.3357 - accuracy: 0.8589 - val_loss: 0.5093 - val_accuracy: 0.8041\n"
     ]
    },
    {
     "data": {
      "text/plain": [
       "<tensorflow.python.keras.callbacks.History at 0x7f7b4a994dd0>"
      ]
     },
     "execution_count": 33,
     "metadata": {},
     "output_type": "execute_result"
    }
   ],
   "source": [
    "pretrained_model.trainable=True\n",
    "\n",
    "pretrained_model.compile(\n",
    "    loss=\"binary_crossentropy\",\n",
    "    optimizer=optimizers.Nadam(1e-3),\n",
    "    metrics=[\"accuracy\"]\n",
    ")\n",
    "\n",
    "pretrained_model.fit(\n",
    "    train_set, \n",
    "    epochs=10, \n",
    "    validation_data=valid_set,\n",
    "    callbacks=[callbacks.EarlyStopping(patience=5, restore_best_weights=True)]\n",
    ")"
   ]
  }
 ],
 "metadata": {
  "kernelspec": {
   "display_name": "Python 3",
   "language": "python",
   "name": "python3"
  },
  "language_info": {
   "codemirror_mode": {
    "name": "ipython",
    "version": 3
   },
   "file_extension": ".py",
   "mimetype": "text/x-python",
   "name": "python",
   "nbconvert_exporter": "python",
   "pygments_lexer": "ipython3",
   "version": "3.6.9"
  },
  "papermill": {
   "duration": 893.858273,
   "end_time": "2020-10-18T15:25:05.244935",
   "environment_variables": {},
   "exception": null,
   "input_path": "__notebook__.ipynb",
   "output_path": "__notebook__.ipynb",
   "parameters": {},
   "start_time": "2020-10-18T15:10:11.386662",
   "version": "2.1.0"
  }
 },
 "nbformat": 4,
 "nbformat_minor": 4
}
